{
 "cells": [
  {
   "attachments": {},
   "cell_type": "markdown",
   "metadata": {},
   "source": [
    "# Data Mining : Microarray Preprocessing"
   ]
  },
  {
   "cell_type": "markdown",
   "metadata": {},
   "source": [
    "## Import Packages and Dataset"
   ]
  },
  {
   "cell_type": "markdown",
   "metadata": {},
   "source": [
    "***Packages***"
   ]
  },
  {
   "cell_type": "code",
   "execution_count": 1,
   "metadata": {},
   "outputs": [],
   "source": [
    "import pandas as pd\n",
    "import numpy as np\n",
    "import matplotlib.pyplot as plt\n",
    "import seaborn as sns\n",
    "\n",
    "import math\n",
    "from sklearn.cluster import KMeans\n",
    "from sklearn.tree import DecisionTreeClassifier\n",
    "from sklearn.ensemble import RandomForestClassifier, GradientBoostingClassifier\n",
    "from sklearn.svm import SVC\n",
    "from sklearn.linear_model import LogisticRegression\n",
    "from sklearn.neighbors import KNeighborsClassifier\n",
    "from sklearn.naive_bayes import MultinomialNB\n",
    "from scipy.spatial.distance import cdist\n",
    "from sklearn.model_selection import train_test_split\n",
    "from sklearn.preprocessing import MinMaxScaler\n",
    "from sklearn.model_selection import KFold, LeaveOneOut\n",
    "from sklearn.metrics import accuracy_score\n",
    "\n",
    "from ReliefF import ReliefF\n",
    "from sklearn.decomposition import PCA\n",
    "from sklearn.feature_selection import mutual_info_classif\n",
    "from yellowbrick.features.pca import PCADecomposition\n",
    "\n",
    "\n",
    "import warnings\n",
    "warnings.filterwarnings('ignore')"
   ]
  },
  {
   "cell_type": "markdown",
   "metadata": {},
   "source": [
    "***Dataset***"
   ]
  },
  {
   "cell_type": "code",
   "execution_count": 2,
   "metadata": {},
   "outputs": [
    {
     "data": {
      "text/plain": [
       "2001"
      ]
     },
     "execution_count": 2,
     "metadata": {},
     "output_type": "execute_result"
    }
   ],
   "source": [
    "data = pd.read_csv(\"data/colonTumor.csv\")\n",
    "data_length = data.shape[1]\n",
    "data_length"
   ]
  },
  {
   "cell_type": "code",
   "execution_count": 3,
   "metadata": {},
   "outputs": [],
   "source": [
    "column = []\n",
    "for i in range(data_length):\n",
    "    column.append(\"atribut\"+str(i))"
   ]
  },
  {
   "cell_type": "code",
   "execution_count": 4,
   "metadata": {},
   "outputs": [
    {
     "data": {
      "text/html": [
       "<div>\n",
       "<style scoped>\n",
       "    .dataframe tbody tr th:only-of-type {\n",
       "        vertical-align: middle;\n",
       "    }\n",
       "\n",
       "    .dataframe tbody tr th {\n",
       "        vertical-align: top;\n",
       "    }\n",
       "\n",
       "    .dataframe thead th {\n",
       "        text-align: right;\n",
       "    }\n",
       "</style>\n",
       "<table border=\"1\" class=\"dataframe\">\n",
       "  <thead>\n",
       "    <tr style=\"text-align: right;\">\n",
       "      <th></th>\n",
       "      <th>atribut0</th>\n",
       "      <th>atribut1</th>\n",
       "      <th>atribut2</th>\n",
       "      <th>atribut3</th>\n",
       "      <th>atribut4</th>\n",
       "      <th>atribut5</th>\n",
       "      <th>atribut6</th>\n",
       "      <th>atribut7</th>\n",
       "      <th>atribut8</th>\n",
       "      <th>atribut9</th>\n",
       "      <th>...</th>\n",
       "      <th>atribut1991</th>\n",
       "      <th>atribut1992</th>\n",
       "      <th>atribut1993</th>\n",
       "      <th>atribut1994</th>\n",
       "      <th>atribut1995</th>\n",
       "      <th>atribut1996</th>\n",
       "      <th>atribut1997</th>\n",
       "      <th>atribut1998</th>\n",
       "      <th>atribut1999</th>\n",
       "      <th>atribut2000</th>\n",
       "    </tr>\n",
       "  </thead>\n",
       "  <tbody>\n",
       "    <tr>\n",
       "      <th>0</th>\n",
       "      <td>8589.4163</td>\n",
       "      <td>5468.2409</td>\n",
       "      <td>4263.4075</td>\n",
       "      <td>4064.9357</td>\n",
       "      <td>1997.8929</td>\n",
       "      <td>5282.3250</td>\n",
       "      <td>2169.7200</td>\n",
       "      <td>2773.4212</td>\n",
       "      <td>7526.3862</td>\n",
       "      <td>4607.6762</td>\n",
       "      <td>...</td>\n",
       "      <td>67.56125</td>\n",
       "      <td>259.91250</td>\n",
       "      <td>138.89875</td>\n",
       "      <td>88.23250</td>\n",
       "      <td>39.667857</td>\n",
       "      <td>67.82875</td>\n",
       "      <td>75.67750</td>\n",
       "      <td>83.52250</td>\n",
       "      <td>28.70125</td>\n",
       "      <td>negative</td>\n",
       "    </tr>\n",
       "    <tr>\n",
       "      <th>1</th>\n",
       "      <td>9164.2537</td>\n",
       "      <td>6719.5295</td>\n",
       "      <td>4883.4487</td>\n",
       "      <td>3718.1589</td>\n",
       "      <td>2015.2214</td>\n",
       "      <td>5569.9071</td>\n",
       "      <td>3849.0588</td>\n",
       "      <td>2793.3875</td>\n",
       "      <td>7017.7338</td>\n",
       "      <td>4802.2524</td>\n",
       "      <td>...</td>\n",
       "      <td>92.23875</td>\n",
       "      <td>96.27625</td>\n",
       "      <td>150.59000</td>\n",
       "      <td>82.23750</td>\n",
       "      <td>85.033333</td>\n",
       "      <td>152.19500</td>\n",
       "      <td>186.56750</td>\n",
       "      <td>44.47250</td>\n",
       "      <td>16.77375</td>\n",
       "      <td>positive</td>\n",
       "    </tr>\n",
       "    <tr>\n",
       "      <th>2</th>\n",
       "      <td>3825.7050</td>\n",
       "      <td>6970.3614</td>\n",
       "      <td>5369.9688</td>\n",
       "      <td>4705.6500</td>\n",
       "      <td>1166.5536</td>\n",
       "      <td>1572.1679</td>\n",
       "      <td>1325.4025</td>\n",
       "      <td>1472.2587</td>\n",
       "      <td>3296.9512</td>\n",
       "      <td>2786.5821</td>\n",
       "      <td>...</td>\n",
       "      <td>82.71500</td>\n",
       "      <td>31.10250</td>\n",
       "      <td>193.92000</td>\n",
       "      <td>76.97250</td>\n",
       "      <td>224.620240</td>\n",
       "      <td>31.22500</td>\n",
       "      <td>42.65625</td>\n",
       "      <td>16.09250</td>\n",
       "      <td>15.15625</td>\n",
       "      <td>negative</td>\n",
       "    </tr>\n",
       "    <tr>\n",
       "      <th>3</th>\n",
       "      <td>6246.4487</td>\n",
       "      <td>7823.5341</td>\n",
       "      <td>5955.8350</td>\n",
       "      <td>3975.5643</td>\n",
       "      <td>2002.6131</td>\n",
       "      <td>2130.5429</td>\n",
       "      <td>1531.1425</td>\n",
       "      <td>1714.6312</td>\n",
       "      <td>3869.7850</td>\n",
       "      <td>4989.4071</td>\n",
       "      <td>...</td>\n",
       "      <td>41.68375</td>\n",
       "      <td>5.92500</td>\n",
       "      <td>183.00625</td>\n",
       "      <td>74.52875</td>\n",
       "      <td>67.710714</td>\n",
       "      <td>48.33875</td>\n",
       "      <td>42.52000</td>\n",
       "      <td>49.98250</td>\n",
       "      <td>16.08500</td>\n",
       "      <td>positive</td>\n",
       "    </tr>\n",
       "    <tr>\n",
       "      <th>4</th>\n",
       "      <td>3230.3287</td>\n",
       "      <td>3694.4500</td>\n",
       "      <td>3400.7400</td>\n",
       "      <td>3463.5857</td>\n",
       "      <td>2181.4202</td>\n",
       "      <td>2922.7821</td>\n",
       "      <td>2069.2463</td>\n",
       "      <td>2948.5750</td>\n",
       "      <td>3303.3712</td>\n",
       "      <td>3109.4131</td>\n",
       "      <td>...</td>\n",
       "      <td>76.60375</td>\n",
       "      <td>161.35000</td>\n",
       "      <td>61.70125</td>\n",
       "      <td>54.56375</td>\n",
       "      <td>223.359520</td>\n",
       "      <td>73.09875</td>\n",
       "      <td>57.59875</td>\n",
       "      <td>7.48875</td>\n",
       "      <td>31.81250</td>\n",
       "      <td>negative</td>\n",
       "    </tr>\n",
       "  </tbody>\n",
       "</table>\n",
       "<p>5 rows × 2001 columns</p>\n",
       "</div>"
      ],
      "text/plain": [
       "    atribut0   atribut1   atribut2   atribut3   atribut4   atribut5  \\\n",
       "0  8589.4163  5468.2409  4263.4075  4064.9357  1997.8929  5282.3250   \n",
       "1  9164.2537  6719.5295  4883.4487  3718.1589  2015.2214  5569.9071   \n",
       "2  3825.7050  6970.3614  5369.9688  4705.6500  1166.5536  1572.1679   \n",
       "3  6246.4487  7823.5341  5955.8350  3975.5643  2002.6131  2130.5429   \n",
       "4  3230.3287  3694.4500  3400.7400  3463.5857  2181.4202  2922.7821   \n",
       "\n",
       "    atribut6   atribut7   atribut8   atribut9  ...  atribut1991  atribut1992  \\\n",
       "0  2169.7200  2773.4212  7526.3862  4607.6762  ...     67.56125    259.91250   \n",
       "1  3849.0588  2793.3875  7017.7338  4802.2524  ...     92.23875     96.27625   \n",
       "2  1325.4025  1472.2587  3296.9512  2786.5821  ...     82.71500     31.10250   \n",
       "3  1531.1425  1714.6312  3869.7850  4989.4071  ...     41.68375      5.92500   \n",
       "4  2069.2463  2948.5750  3303.3712  3109.4131  ...     76.60375    161.35000   \n",
       "\n",
       "   atribut1993  atribut1994  atribut1995  atribut1996  atribut1997  \\\n",
       "0    138.89875     88.23250    39.667857     67.82875     75.67750   \n",
       "1    150.59000     82.23750    85.033333    152.19500    186.56750   \n",
       "2    193.92000     76.97250   224.620240     31.22500     42.65625   \n",
       "3    183.00625     74.52875    67.710714     48.33875     42.52000   \n",
       "4     61.70125     54.56375   223.359520     73.09875     57.59875   \n",
       "\n",
       "   atribut1998  atribut1999  atribut2000  \n",
       "0     83.52250     28.70125     negative  \n",
       "1     44.47250     16.77375     positive  \n",
       "2     16.09250     15.15625     negative  \n",
       "3     49.98250     16.08500     positive  \n",
       "4      7.48875     31.81250     negative  \n",
       "\n",
       "[5 rows x 2001 columns]"
      ]
     },
     "execution_count": 4,
     "metadata": {},
     "output_type": "execute_result"
    }
   ],
   "source": [
    "data = pd.read_csv(\"data/colonTumor.csv\", header=None, names=column)\n",
    "data.head()"
   ]
  },
  {
   "cell_type": "code",
   "execution_count": 5,
   "metadata": {},
   "outputs": [
    {
     "data": {
      "text/html": [
       "<div>\n",
       "<style scoped>\n",
       "    .dataframe tbody tr th:only-of-type {\n",
       "        vertical-align: middle;\n",
       "    }\n",
       "\n",
       "    .dataframe tbody tr th {\n",
       "        vertical-align: top;\n",
       "    }\n",
       "\n",
       "    .dataframe thead th {\n",
       "        text-align: right;\n",
       "    }\n",
       "</style>\n",
       "<table border=\"1\" class=\"dataframe\">\n",
       "  <thead>\n",
       "    <tr style=\"text-align: right;\">\n",
       "      <th></th>\n",
       "      <th>atribut0</th>\n",
       "      <th>atribut1</th>\n",
       "      <th>atribut2</th>\n",
       "      <th>atribut3</th>\n",
       "      <th>atribut4</th>\n",
       "      <th>atribut5</th>\n",
       "      <th>atribut6</th>\n",
       "      <th>atribut7</th>\n",
       "      <th>atribut8</th>\n",
       "      <th>atribut9</th>\n",
       "      <th>...</th>\n",
       "      <th>atribut1991</th>\n",
       "      <th>atribut1992</th>\n",
       "      <th>atribut1993</th>\n",
       "      <th>atribut1994</th>\n",
       "      <th>atribut1995</th>\n",
       "      <th>atribut1996</th>\n",
       "      <th>atribut1997</th>\n",
       "      <th>atribut1998</th>\n",
       "      <th>atribut1999</th>\n",
       "      <th>status</th>\n",
       "    </tr>\n",
       "  </thead>\n",
       "  <tbody>\n",
       "    <tr>\n",
       "      <th>0</th>\n",
       "      <td>8589.4163</td>\n",
       "      <td>5468.2409</td>\n",
       "      <td>4263.4075</td>\n",
       "      <td>4064.9357</td>\n",
       "      <td>1997.8929</td>\n",
       "      <td>5282.3250</td>\n",
       "      <td>2169.7200</td>\n",
       "      <td>2773.4212</td>\n",
       "      <td>7526.3862</td>\n",
       "      <td>4607.6762</td>\n",
       "      <td>...</td>\n",
       "      <td>67.56125</td>\n",
       "      <td>259.91250</td>\n",
       "      <td>138.89875</td>\n",
       "      <td>88.23250</td>\n",
       "      <td>39.667857</td>\n",
       "      <td>67.82875</td>\n",
       "      <td>75.67750</td>\n",
       "      <td>83.52250</td>\n",
       "      <td>28.70125</td>\n",
       "      <td>negative</td>\n",
       "    </tr>\n",
       "    <tr>\n",
       "      <th>1</th>\n",
       "      <td>9164.2537</td>\n",
       "      <td>6719.5295</td>\n",
       "      <td>4883.4487</td>\n",
       "      <td>3718.1589</td>\n",
       "      <td>2015.2214</td>\n",
       "      <td>5569.9071</td>\n",
       "      <td>3849.0588</td>\n",
       "      <td>2793.3875</td>\n",
       "      <td>7017.7338</td>\n",
       "      <td>4802.2524</td>\n",
       "      <td>...</td>\n",
       "      <td>92.23875</td>\n",
       "      <td>96.27625</td>\n",
       "      <td>150.59000</td>\n",
       "      <td>82.23750</td>\n",
       "      <td>85.033333</td>\n",
       "      <td>152.19500</td>\n",
       "      <td>186.56750</td>\n",
       "      <td>44.47250</td>\n",
       "      <td>16.77375</td>\n",
       "      <td>positive</td>\n",
       "    </tr>\n",
       "    <tr>\n",
       "      <th>2</th>\n",
       "      <td>3825.7050</td>\n",
       "      <td>6970.3614</td>\n",
       "      <td>5369.9688</td>\n",
       "      <td>4705.6500</td>\n",
       "      <td>1166.5536</td>\n",
       "      <td>1572.1679</td>\n",
       "      <td>1325.4025</td>\n",
       "      <td>1472.2587</td>\n",
       "      <td>3296.9512</td>\n",
       "      <td>2786.5821</td>\n",
       "      <td>...</td>\n",
       "      <td>82.71500</td>\n",
       "      <td>31.10250</td>\n",
       "      <td>193.92000</td>\n",
       "      <td>76.97250</td>\n",
       "      <td>224.620240</td>\n",
       "      <td>31.22500</td>\n",
       "      <td>42.65625</td>\n",
       "      <td>16.09250</td>\n",
       "      <td>15.15625</td>\n",
       "      <td>negative</td>\n",
       "    </tr>\n",
       "    <tr>\n",
       "      <th>3</th>\n",
       "      <td>6246.4487</td>\n",
       "      <td>7823.5341</td>\n",
       "      <td>5955.8350</td>\n",
       "      <td>3975.5643</td>\n",
       "      <td>2002.6131</td>\n",
       "      <td>2130.5429</td>\n",
       "      <td>1531.1425</td>\n",
       "      <td>1714.6312</td>\n",
       "      <td>3869.7850</td>\n",
       "      <td>4989.4071</td>\n",
       "      <td>...</td>\n",
       "      <td>41.68375</td>\n",
       "      <td>5.92500</td>\n",
       "      <td>183.00625</td>\n",
       "      <td>74.52875</td>\n",
       "      <td>67.710714</td>\n",
       "      <td>48.33875</td>\n",
       "      <td>42.52000</td>\n",
       "      <td>49.98250</td>\n",
       "      <td>16.08500</td>\n",
       "      <td>positive</td>\n",
       "    </tr>\n",
       "    <tr>\n",
       "      <th>4</th>\n",
       "      <td>3230.3287</td>\n",
       "      <td>3694.4500</td>\n",
       "      <td>3400.7400</td>\n",
       "      <td>3463.5857</td>\n",
       "      <td>2181.4202</td>\n",
       "      <td>2922.7821</td>\n",
       "      <td>2069.2463</td>\n",
       "      <td>2948.5750</td>\n",
       "      <td>3303.3712</td>\n",
       "      <td>3109.4131</td>\n",
       "      <td>...</td>\n",
       "      <td>76.60375</td>\n",
       "      <td>161.35000</td>\n",
       "      <td>61.70125</td>\n",
       "      <td>54.56375</td>\n",
       "      <td>223.359520</td>\n",
       "      <td>73.09875</td>\n",
       "      <td>57.59875</td>\n",
       "      <td>7.48875</td>\n",
       "      <td>31.81250</td>\n",
       "      <td>negative</td>\n",
       "    </tr>\n",
       "  </tbody>\n",
       "</table>\n",
       "<p>5 rows × 2001 columns</p>\n",
       "</div>"
      ],
      "text/plain": [
       "    atribut0   atribut1   atribut2   atribut3   atribut4   atribut5  \\\n",
       "0  8589.4163  5468.2409  4263.4075  4064.9357  1997.8929  5282.3250   \n",
       "1  9164.2537  6719.5295  4883.4487  3718.1589  2015.2214  5569.9071   \n",
       "2  3825.7050  6970.3614  5369.9688  4705.6500  1166.5536  1572.1679   \n",
       "3  6246.4487  7823.5341  5955.8350  3975.5643  2002.6131  2130.5429   \n",
       "4  3230.3287  3694.4500  3400.7400  3463.5857  2181.4202  2922.7821   \n",
       "\n",
       "    atribut6   atribut7   atribut8   atribut9  ...  atribut1991  atribut1992  \\\n",
       "0  2169.7200  2773.4212  7526.3862  4607.6762  ...     67.56125    259.91250   \n",
       "1  3849.0588  2793.3875  7017.7338  4802.2524  ...     92.23875     96.27625   \n",
       "2  1325.4025  1472.2587  3296.9512  2786.5821  ...     82.71500     31.10250   \n",
       "3  1531.1425  1714.6312  3869.7850  4989.4071  ...     41.68375      5.92500   \n",
       "4  2069.2463  2948.5750  3303.3712  3109.4131  ...     76.60375    161.35000   \n",
       "\n",
       "   atribut1993  atribut1994  atribut1995  atribut1996  atribut1997  \\\n",
       "0    138.89875     88.23250    39.667857     67.82875     75.67750   \n",
       "1    150.59000     82.23750    85.033333    152.19500    186.56750   \n",
       "2    193.92000     76.97250   224.620240     31.22500     42.65625   \n",
       "3    183.00625     74.52875    67.710714     48.33875     42.52000   \n",
       "4     61.70125     54.56375   223.359520     73.09875     57.59875   \n",
       "\n",
       "   atribut1998  atribut1999    status  \n",
       "0     83.52250     28.70125  negative  \n",
       "1     44.47250     16.77375  positive  \n",
       "2     16.09250     15.15625  negative  \n",
       "3     49.98250     16.08500  positive  \n",
       "4      7.48875     31.81250  negative  \n",
       "\n",
       "[5 rows x 2001 columns]"
      ]
     },
     "execution_count": 5,
     "metadata": {},
     "output_type": "execute_result"
    }
   ],
   "source": [
    "data = data.rename(columns={'atribut2000': 'status'})\n",
    "data.head()"
   ]
  },
  {
   "cell_type": "code",
   "execution_count": 6,
   "metadata": {},
   "outputs": [
    {
     "data": {
      "text/html": [
       "<div>\n",
       "<style scoped>\n",
       "    .dataframe tbody tr th:only-of-type {\n",
       "        vertical-align: middle;\n",
       "    }\n",
       "\n",
       "    .dataframe tbody tr th {\n",
       "        vertical-align: top;\n",
       "    }\n",
       "\n",
       "    .dataframe thead th {\n",
       "        text-align: right;\n",
       "    }\n",
       "</style>\n",
       "<table border=\"1\" class=\"dataframe\">\n",
       "  <thead>\n",
       "    <tr style=\"text-align: right;\">\n",
       "      <th></th>\n",
       "      <th>atribut0</th>\n",
       "      <th>atribut1</th>\n",
       "      <th>atribut2</th>\n",
       "      <th>atribut3</th>\n",
       "      <th>atribut4</th>\n",
       "      <th>atribut5</th>\n",
       "      <th>atribut6</th>\n",
       "      <th>atribut7</th>\n",
       "      <th>atribut8</th>\n",
       "      <th>atribut9</th>\n",
       "      <th>...</th>\n",
       "      <th>atribut1991</th>\n",
       "      <th>atribut1992</th>\n",
       "      <th>atribut1993</th>\n",
       "      <th>atribut1994</th>\n",
       "      <th>atribut1995</th>\n",
       "      <th>atribut1996</th>\n",
       "      <th>atribut1997</th>\n",
       "      <th>atribut1998</th>\n",
       "      <th>atribut1999</th>\n",
       "      <th>status</th>\n",
       "    </tr>\n",
       "  </thead>\n",
       "  <tbody>\n",
       "    <tr>\n",
       "      <th>0</th>\n",
       "      <td>8589.4163</td>\n",
       "      <td>5468.2409</td>\n",
       "      <td>4263.4075</td>\n",
       "      <td>4064.9357</td>\n",
       "      <td>1997.8929</td>\n",
       "      <td>5282.3250</td>\n",
       "      <td>2169.7200</td>\n",
       "      <td>2773.4212</td>\n",
       "      <td>7526.3862</td>\n",
       "      <td>4607.6762</td>\n",
       "      <td>...</td>\n",
       "      <td>67.56125</td>\n",
       "      <td>259.91250</td>\n",
       "      <td>138.89875</td>\n",
       "      <td>88.23250</td>\n",
       "      <td>39.667857</td>\n",
       "      <td>67.82875</td>\n",
       "      <td>75.67750</td>\n",
       "      <td>83.52250</td>\n",
       "      <td>28.70125</td>\n",
       "      <td>0</td>\n",
       "    </tr>\n",
       "    <tr>\n",
       "      <th>1</th>\n",
       "      <td>9164.2537</td>\n",
       "      <td>6719.5295</td>\n",
       "      <td>4883.4487</td>\n",
       "      <td>3718.1589</td>\n",
       "      <td>2015.2214</td>\n",
       "      <td>5569.9071</td>\n",
       "      <td>3849.0588</td>\n",
       "      <td>2793.3875</td>\n",
       "      <td>7017.7338</td>\n",
       "      <td>4802.2524</td>\n",
       "      <td>...</td>\n",
       "      <td>92.23875</td>\n",
       "      <td>96.27625</td>\n",
       "      <td>150.59000</td>\n",
       "      <td>82.23750</td>\n",
       "      <td>85.033333</td>\n",
       "      <td>152.19500</td>\n",
       "      <td>186.56750</td>\n",
       "      <td>44.47250</td>\n",
       "      <td>16.77375</td>\n",
       "      <td>1</td>\n",
       "    </tr>\n",
       "    <tr>\n",
       "      <th>2</th>\n",
       "      <td>3825.7050</td>\n",
       "      <td>6970.3614</td>\n",
       "      <td>5369.9688</td>\n",
       "      <td>4705.6500</td>\n",
       "      <td>1166.5536</td>\n",
       "      <td>1572.1679</td>\n",
       "      <td>1325.4025</td>\n",
       "      <td>1472.2587</td>\n",
       "      <td>3296.9512</td>\n",
       "      <td>2786.5821</td>\n",
       "      <td>...</td>\n",
       "      <td>82.71500</td>\n",
       "      <td>31.10250</td>\n",
       "      <td>193.92000</td>\n",
       "      <td>76.97250</td>\n",
       "      <td>224.620240</td>\n",
       "      <td>31.22500</td>\n",
       "      <td>42.65625</td>\n",
       "      <td>16.09250</td>\n",
       "      <td>15.15625</td>\n",
       "      <td>0</td>\n",
       "    </tr>\n",
       "    <tr>\n",
       "      <th>3</th>\n",
       "      <td>6246.4487</td>\n",
       "      <td>7823.5341</td>\n",
       "      <td>5955.8350</td>\n",
       "      <td>3975.5643</td>\n",
       "      <td>2002.6131</td>\n",
       "      <td>2130.5429</td>\n",
       "      <td>1531.1425</td>\n",
       "      <td>1714.6312</td>\n",
       "      <td>3869.7850</td>\n",
       "      <td>4989.4071</td>\n",
       "      <td>...</td>\n",
       "      <td>41.68375</td>\n",
       "      <td>5.92500</td>\n",
       "      <td>183.00625</td>\n",
       "      <td>74.52875</td>\n",
       "      <td>67.710714</td>\n",
       "      <td>48.33875</td>\n",
       "      <td>42.52000</td>\n",
       "      <td>49.98250</td>\n",
       "      <td>16.08500</td>\n",
       "      <td>1</td>\n",
       "    </tr>\n",
       "    <tr>\n",
       "      <th>4</th>\n",
       "      <td>3230.3287</td>\n",
       "      <td>3694.4500</td>\n",
       "      <td>3400.7400</td>\n",
       "      <td>3463.5857</td>\n",
       "      <td>2181.4202</td>\n",
       "      <td>2922.7821</td>\n",
       "      <td>2069.2463</td>\n",
       "      <td>2948.5750</td>\n",
       "      <td>3303.3712</td>\n",
       "      <td>3109.4131</td>\n",
       "      <td>...</td>\n",
       "      <td>76.60375</td>\n",
       "      <td>161.35000</td>\n",
       "      <td>61.70125</td>\n",
       "      <td>54.56375</td>\n",
       "      <td>223.359520</td>\n",
       "      <td>73.09875</td>\n",
       "      <td>57.59875</td>\n",
       "      <td>7.48875</td>\n",
       "      <td>31.81250</td>\n",
       "      <td>0</td>\n",
       "    </tr>\n",
       "  </tbody>\n",
       "</table>\n",
       "<p>5 rows × 2001 columns</p>\n",
       "</div>"
      ],
      "text/plain": [
       "    atribut0   atribut1   atribut2   atribut3   atribut4   atribut5  \\\n",
       "0  8589.4163  5468.2409  4263.4075  4064.9357  1997.8929  5282.3250   \n",
       "1  9164.2537  6719.5295  4883.4487  3718.1589  2015.2214  5569.9071   \n",
       "2  3825.7050  6970.3614  5369.9688  4705.6500  1166.5536  1572.1679   \n",
       "3  6246.4487  7823.5341  5955.8350  3975.5643  2002.6131  2130.5429   \n",
       "4  3230.3287  3694.4500  3400.7400  3463.5857  2181.4202  2922.7821   \n",
       "\n",
       "    atribut6   atribut7   atribut8   atribut9  ...  atribut1991  atribut1992  \\\n",
       "0  2169.7200  2773.4212  7526.3862  4607.6762  ...     67.56125    259.91250   \n",
       "1  3849.0588  2793.3875  7017.7338  4802.2524  ...     92.23875     96.27625   \n",
       "2  1325.4025  1472.2587  3296.9512  2786.5821  ...     82.71500     31.10250   \n",
       "3  1531.1425  1714.6312  3869.7850  4989.4071  ...     41.68375      5.92500   \n",
       "4  2069.2463  2948.5750  3303.3712  3109.4131  ...     76.60375    161.35000   \n",
       "\n",
       "   atribut1993  atribut1994  atribut1995  atribut1996  atribut1997  \\\n",
       "0    138.89875     88.23250    39.667857     67.82875     75.67750   \n",
       "1    150.59000     82.23750    85.033333    152.19500    186.56750   \n",
       "2    193.92000     76.97250   224.620240     31.22500     42.65625   \n",
       "3    183.00625     74.52875    67.710714     48.33875     42.52000   \n",
       "4     61.70125     54.56375   223.359520     73.09875     57.59875   \n",
       "\n",
       "   atribut1998  atribut1999  status  \n",
       "0     83.52250     28.70125       0  \n",
       "1     44.47250     16.77375       1  \n",
       "2     16.09250     15.15625       0  \n",
       "3     49.98250     16.08500       1  \n",
       "4      7.48875     31.81250       0  \n",
       "\n",
       "[5 rows x 2001 columns]"
      ]
     },
     "execution_count": 6,
     "metadata": {},
     "output_type": "execute_result"
    }
   ],
   "source": [
    "data.loc[data['status'] == 'negative', ['status']] = 0\n",
    "data.loc[data['status'] == 'positive', ['status']] = 1\n",
    "data.head()"
   ]
  },
  {
   "cell_type": "code",
   "execution_count": 7,
   "metadata": {},
   "outputs": [],
   "source": [
    "data = data.apply(pd.to_numeric)"
   ]
  },
  {
   "cell_type": "markdown",
   "metadata": {},
   "source": [
    "## Data Analysis"
   ]
  },
  {
   "cell_type": "markdown",
   "metadata": {},
   "source": [
    "**Perbandingan jumlah positive dan negative**"
   ]
  },
  {
   "cell_type": "code",
   "execution_count": 8,
   "metadata": {},
   "outputs": [
    {
     "data": {
      "image/png": "[encoded data removed]",
      "text/plain": [
       "<Figure size 432x288 with 1 Axes>"
      ]
     },
     "metadata": {
      "needs_background": "light"
     },
     "output_type": "display_data"
    }
   ],
   "source": [
    "data['status'].value_counts().plot(kind='bar', color=\"r\")\n",
    "plt.title(\"Perbandingan jumlah positive dan negative\")\n",
    "plt.xlabel('Status')\n",
    "plt.ylabel('Total')\n",
    "plt.show()"
   ]
  },
  {
   "cell_type": "markdown",
   "metadata": {},
   "source": [
    "**statistic info**"
   ]
  },
  {
   "cell_type": "code",
   "execution_count": 9,
   "metadata": {},
   "outputs": [
    {
     "data": {
      "text/html": [
       "<div>\n",
       "<style scoped>\n",
       "    .dataframe tbody tr th:only-of-type {\n",
       "        vertical-align: middle;\n",
       "    }\n",
       "\n",
       "    .dataframe tbody tr th {\n",
       "        vertical-align: top;\n",
       "    }\n",
       "\n",
       "    .dataframe thead th {\n",
       "        text-align: right;\n",
       "    }\n",
       "</style>\n",
       "<table border=\"1\" class=\"dataframe\">\n",
       "  <thead>\n",
       "    <tr style=\"text-align: right;\">\n",
       "      <th></th>\n",
       "      <th>atribut0</th>\n",
       "      <th>atribut1</th>\n",
       "      <th>atribut2</th>\n",
       "      <th>atribut3</th>\n",
       "      <th>atribut4</th>\n",
       "      <th>atribut5</th>\n",
       "      <th>atribut6</th>\n",
       "      <th>atribut7</th>\n",
       "      <th>atribut8</th>\n",
       "      <th>atribut9</th>\n",
       "      <th>...</th>\n",
       "      <th>atribut1991</th>\n",
       "      <th>atribut1992</th>\n",
       "      <th>atribut1993</th>\n",
       "      <th>atribut1994</th>\n",
       "      <th>atribut1995</th>\n",
       "      <th>atribut1996</th>\n",
       "      <th>atribut1997</th>\n",
       "      <th>atribut1998</th>\n",
       "      <th>atribut1999</th>\n",
       "      <th>status</th>\n",
       "    </tr>\n",
       "  </thead>\n",
       "  <tbody>\n",
       "    <tr>\n",
       "      <th>count</th>\n",
       "      <td>62.000000</td>\n",
       "      <td>62.000000</td>\n",
       "      <td>62.000000</td>\n",
       "      <td>62.000000</td>\n",
       "      <td>62.000000</td>\n",
       "      <td>62.000000</td>\n",
       "      <td>62.000000</td>\n",
       "      <td>62.000000</td>\n",
       "      <td>62.000000</td>\n",
       "      <td>62.000000</td>\n",
       "      <td>...</td>\n",
       "      <td>62.000000</td>\n",
       "      <td>62.000000</td>\n",
       "      <td>62.000000</td>\n",
       "      <td>62.000000</td>\n",
       "      <td>62.000000</td>\n",
       "      <td>62.000000</td>\n",
       "      <td>62.000000</td>\n",
       "      <td>62.000000</td>\n",
       "      <td>62.000000</td>\n",
       "      <td>62.000000</td>\n",
       "    </tr>\n",
       "    <tr>\n",
       "      <th>mean</th>\n",
       "      <td>7015.786710</td>\n",
       "      <td>4966.960015</td>\n",
       "      <td>4094.727879</td>\n",
       "      <td>3987.789284</td>\n",
       "      <td>2937.126113</td>\n",
       "      <td>4705.119302</td>\n",
       "      <td>3588.800323</td>\n",
       "      <td>2872.288631</td>\n",
       "      <td>4680.191160</td>\n",
       "      <td>4039.661953</td>\n",
       "      <td>...</td>\n",
       "      <td>100.227903</td>\n",
       "      <td>293.222722</td>\n",
       "      <td>124.653387</td>\n",
       "      <td>133.186935</td>\n",
       "      <td>184.136635</td>\n",
       "      <td>84.118387</td>\n",
       "      <td>114.930000</td>\n",
       "      <td>53.251230</td>\n",
       "      <td>42.965827</td>\n",
       "      <td>0.354839</td>\n",
       "    </tr>\n",
       "    <tr>\n",
       "      <th>std</th>\n",
       "      <td>3092.970584</td>\n",
       "      <td>2188.890480</td>\n",
       "      <td>1818.080939</td>\n",
       "      <td>2019.086903</td>\n",
       "      <td>1356.932887</td>\n",
       "      <td>2400.848112</td>\n",
       "      <td>1872.106095</td>\n",
       "      <td>1122.365448</td>\n",
       "      <td>2417.239217</td>\n",
       "      <td>2018.044248</td>\n",
       "      <td>...</td>\n",
       "      <td>78.022712</td>\n",
       "      <td>179.249194</td>\n",
       "      <td>75.535838</td>\n",
       "      <td>101.372557</td>\n",
       "      <td>159.914871</td>\n",
       "      <td>86.182028</td>\n",
       "      <td>88.011866</td>\n",
       "      <td>38.462814</td>\n",
       "      <td>28.395175</td>\n",
       "      <td>0.482370</td>\n",
       "    </tr>\n",
       "    <tr>\n",
       "      <th>min</th>\n",
       "      <td>1914.677500</td>\n",
       "      <td>1383.488600</td>\n",
       "      <td>1269.648700</td>\n",
       "      <td>1186.030400</td>\n",
       "      <td>1166.553600</td>\n",
       "      <td>1087.750000</td>\n",
       "      <td>1062.697500</td>\n",
       "      <td>1026.477500</td>\n",
       "      <td>995.790000</td>\n",
       "      <td>974.815480</td>\n",
       "      <td>...</td>\n",
       "      <td>5.935000</td>\n",
       "      <td>5.925000</td>\n",
       "      <td>5.923750</td>\n",
       "      <td>5.916250</td>\n",
       "      <td>5.888095</td>\n",
       "      <td>5.878750</td>\n",
       "      <td>5.848750</td>\n",
       "      <td>5.842500</td>\n",
       "      <td>5.816250</td>\n",
       "      <td>0.000000</td>\n",
       "    </tr>\n",
       "    <tr>\n",
       "      <th>25%</th>\n",
       "      <td>4877.364700</td>\n",
       "      <td>3408.951150</td>\n",
       "      <td>2763.725900</td>\n",
       "      <td>2648.942875</td>\n",
       "      <td>1890.857125</td>\n",
       "      <td>2843.368775</td>\n",
       "      <td>2112.952150</td>\n",
       "      <td>2050.814025</td>\n",
       "      <td>2971.792775</td>\n",
       "      <td>2797.992525</td>\n",
       "      <td>...</td>\n",
       "      <td>48.409375</td>\n",
       "      <td>161.518125</td>\n",
       "      <td>69.121250</td>\n",
       "      <td>71.637500</td>\n",
       "      <td>85.905059</td>\n",
       "      <td>30.701875</td>\n",
       "      <td>53.881563</td>\n",
       "      <td>27.334375</td>\n",
       "      <td>24.610000</td>\n",
       "      <td>0.000000</td>\n",
       "    </tr>\n",
       "    <tr>\n",
       "      <th>50%</th>\n",
       "      <td>6274.612500</td>\n",
       "      <td>4738.280700</td>\n",
       "      <td>3890.338100</td>\n",
       "      <td>3451.498200</td>\n",
       "      <td>2666.075600</td>\n",
       "      <td>4416.617850</td>\n",
       "      <td>3438.180000</td>\n",
       "      <td>2844.960650</td>\n",
       "      <td>4088.735600</td>\n",
       "      <td>3823.017900</td>\n",
       "      <td>...</td>\n",
       "      <td>83.080625</td>\n",
       "      <td>251.883125</td>\n",
       "      <td>114.658125</td>\n",
       "      <td>104.271875</td>\n",
       "      <td>142.578570</td>\n",
       "      <td>56.385625</td>\n",
       "      <td>93.825625</td>\n",
       "      <td>45.358125</td>\n",
       "      <td>34.775000</td>\n",
       "      <td>0.000000</td>\n",
       "    </tr>\n",
       "    <tr>\n",
       "      <th>75%</th>\n",
       "      <td>8712.283175</td>\n",
       "      <td>6455.843200</td>\n",
       "      <td>5008.993750</td>\n",
       "      <td>4738.408950</td>\n",
       "      <td>3563.969325</td>\n",
       "      <td>6076.032125</td>\n",
       "      <td>4420.645350</td>\n",
       "      <td>3414.228475</td>\n",
       "      <td>6171.382800</td>\n",
       "      <td>4840.715500</td>\n",
       "      <td>...</td>\n",
       "      <td>117.208438</td>\n",
       "      <td>424.742500</td>\n",
       "      <td>177.730312</td>\n",
       "      <td>149.772188</td>\n",
       "      <td>212.019940</td>\n",
       "      <td>101.231250</td>\n",
       "      <td>145.074062</td>\n",
       "      <td>66.235312</td>\n",
       "      <td>54.697500</td>\n",
       "      <td>1.000000</td>\n",
       "    </tr>\n",
       "    <tr>\n",
       "      <th>max</th>\n",
       "      <td>14876.407000</td>\n",
       "      <td>10152.273000</td>\n",
       "      <td>8605.043800</td>\n",
       "      <td>11248.680000</td>\n",
       "      <td>8093.875000</td>\n",
       "      <td>11222.682000</td>\n",
       "      <td>9939.246200</td>\n",
       "      <td>5917.026300</td>\n",
       "      <td>14144.835000</td>\n",
       "      <td>12307.913000</td>\n",
       "      <td>...</td>\n",
       "      <td>438.383750</td>\n",
       "      <td>902.572500</td>\n",
       "      <td>333.418750</td>\n",
       "      <td>464.930000</td>\n",
       "      <td>702.130950</td>\n",
       "      <td>405.600000</td>\n",
       "      <td>390.890000</td>\n",
       "      <td>197.220000</td>\n",
       "      <td>126.826250</td>\n",
       "      <td>1.000000</td>\n",
       "    </tr>\n",
       "  </tbody>\n",
       "</table>\n",
       "<p>8 rows × 2001 columns</p>\n",
       "</div>"
      ],
      "text/plain": [
       "           atribut0      atribut1     atribut2      atribut3     atribut4  \\\n",
       "count     62.000000     62.000000    62.000000     62.000000    62.000000   \n",
       "mean    7015.786710   4966.960015  4094.727879   3987.789284  2937.126113   \n",
       "std     3092.970584   2188.890480  1818.080939   2019.086903  1356.932887   \n",
       "min     1914.677500   1383.488600  1269.648700   1186.030400  1166.553600   \n",
       "25%     4877.364700   3408.951150  2763.725900   2648.942875  1890.857125   \n",
       "50%     6274.612500   4738.280700  3890.338100   3451.498200  2666.075600   \n",
       "75%     8712.283175   6455.843200  5008.993750   4738.408950  3563.969325   \n",
       "max    14876.407000  10152.273000  8605.043800  11248.680000  8093.875000   \n",
       "\n",
       "           atribut5     atribut6     atribut7      atribut8      atribut9  \\\n",
       "count     62.000000    62.000000    62.000000     62.000000     62.000000   \n",
       "mean    4705.119302  3588.800323  2872.288631   4680.191160   4039.661953   \n",
       "std     2400.848112  1872.106095  1122.365448   2417.239217   2018.044248   \n",
       "min     1087.750000  1062.697500  1026.477500    995.790000    974.815480   \n",
       "25%     2843.368775  2112.952150  2050.814025   2971.792775   2797.992525   \n",
       "50%     4416.617850  3438.180000  2844.960650   4088.735600   3823.017900   \n",
       "75%     6076.032125  4420.645350  3414.228475   6171.382800   4840.715500   \n",
       "max    11222.682000  9939.246200  5917.026300  14144.835000  12307.913000   \n",
       "\n",
       "       ...  atribut1991  atribut1992  atribut1993  atribut1994  atribut1995  \\\n",
       "count  ...    62.000000    62.000000    62.000000    62.000000    62.000000   \n",
       "mean   ...   100.227903   293.222722   124.653387   133.186935   184.136635   \n",
       "std    ...    78.022712   179.249194    75.535838   101.372557   159.914871   \n",
       "min    ...     5.935000     5.925000     5.923750     5.916250     5.888095   \n",
       "25%    ...    48.409375   161.518125    69.121250    71.637500    85.905059   \n",
       "50%    ...    83.080625   251.883125   114.658125   104.271875   142.578570   \n",
       "75%    ...   117.208438   424.742500   177.730312   149.772188   212.019940   \n",
       "max    ...   438.383750   902.572500   333.418750   464.930000   702.130950   \n",
       "\n",
       "       atribut1996  atribut1997  atribut1998  atribut1999     status  \n",
       "count    62.000000    62.000000    62.000000    62.000000  62.000000  \n",
       "mean     84.118387   114.930000    53.251230    42.965827   0.354839  \n",
       "std      86.182028    88.011866    38.462814    28.395175   0.482370  \n",
       "min       5.878750     5.848750     5.842500     5.816250   0.000000  \n",
       "25%      30.701875    53.881563    27.334375    24.610000   0.000000  \n",
       "50%      56.385625    93.825625    45.358125    34.775000   0.000000  \n",
       "75%     101.231250   145.074062    66.235312    54.697500   1.000000  \n",
       "max     405.600000   390.890000   197.220000   126.826250   1.000000  \n",
       "\n",
       "[8 rows x 2001 columns]"
      ]
     },
     "execution_count": 9,
     "metadata": {},
     "output_type": "execute_result"
    }
   ],
   "source": [
    "data.describe()"
   ]
  },
  {
   "cell_type": "markdown",
   "metadata": {},
   "source": [
    "## Features Target Split"
   ]
  },
  {
   "cell_type": "code",
   "execution_count": 10,
   "metadata": {},
   "outputs": [],
   "source": [
    "X = data.drop(['status'],axis=1)\n",
    "y = data['status']"
   ]
  },
  {
   "cell_type": "markdown",
   "metadata": {},
   "source": [
    "## Normalization"
   ]
  },
  {
   "cell_type": "code",
   "execution_count": 11,
   "metadata": {},
   "outputs": [],
   "source": [
    "def minmax_scaler(X_train_, X_test_):\n",
    "    scaler = MinMaxScaler()\n",
    "    X_train_minmax = scaler.fit_transform(X_train_)\n",
    "    X_train_ = pd.DataFrame(X_train_minmax, columns=X_train_.columns)\n",
    "    X_test_minmax = scaler.transform(X_test_)\n",
    "    X_test_ = pd.DataFrame(X_test_minmax, columns=X_test_.columns)\n",
    "    return X_train_,X_test_"
   ]
  },
  {
   "cell_type": "markdown",
   "metadata": {},
   "source": [
    "## Feature Selection"
   ]
  },
  {
   "cell_type": "markdown",
   "metadata": {},
   "source": [
    "### Clustering (K-Means)"
   ]
  },
  {
   "cell_type": "code",
   "execution_count": 12,
   "metadata": {},
   "outputs": [],
   "source": [
    "def k_means(X_train_):\n",
    "    X_train_transpose = X_train_.transpose()\n",
    "    model_kme = KMeans(n_clusters= 6)\n",
    "    model_kme.fit(X_train_transpose)\n",
    "    pred_kme = model_kme.predict(X_train_transpose)\n",
    "    X_train_transpose_clustered = X_train_transpose.copy()\n",
    "    X_train_transpose_clustered['cluster'] = pred_kme \n",
    "    return X_train_transpose_clustered"
   ]
  },
  {
   "cell_type": "markdown",
   "metadata": {},
   "source": [
    "### Relief Method"
   ]
  },
  {
   "cell_type": "code",
   "execution_count": 13,
   "metadata": {},
   "outputs": [],
   "source": [
    "def find_column(data_, data_selected, num_features_selected, left_columns):\n",
    "    for i in data_.columns:\n",
    "        if ((data_[i].values.tolist() == data_selected.iloc[:,num_features_selected].values.tolist()) and (i not in left_columns)):\n",
    "            column = i\n",
    "            break\n",
    "    return column"
   ]
  },
  {
   "cell_type": "code",
   "execution_count": 14,
   "metadata": {},
   "outputs": [],
   "source": [
    "def relief_method(X_train_transpose_clusteredx, X_train_,y_train_, label_cluster):\n",
    "    n_features_to_keep = 8\n",
    "    n_neighbors = X_train_.shape[0]-1\n",
    "    Train = pd.DataFrame()\n",
    "    for i in label_cluster:\n",
    "        X_train_transpose_clustered_ = X_train_transpose_clusteredx[X_train_transpose_clusteredx['cluster']==i]\n",
    "        X_train_clustered_ = X_train_transpose_clustered_.drop(['cluster'],axis=1).transpose()\n",
    "        fs = ReliefF(n_neighbors=n_neighbors, n_features_to_keep=n_features_to_keep)\n",
    "        X_train_selected = fs.fit_transform(X_train_clustered_.values, y_train_)\n",
    "        top_features = fs.top_features[0:n_features_to_keep]\n",
    "        for j in top_features:\n",
    "            if Train.shape == (0,0):\n",
    "                Train = X_train_[[find_column(X_train_, X_train_clustered_, j,Train.columns)]]\n",
    "            else:\n",
    "                Train = Train.join(X_train_[[find_column(X_train_, X_train_clustered_, j,Train.columns)]])\n",
    "    return Train"
   ]
  },
  {
   "cell_type": "markdown",
   "metadata": {},
   "source": [
    "### Mutual information"
   ]
  },
  {
   "cell_type": "code",
   "execution_count": 15,
   "metadata": {},
   "outputs": [],
   "source": [
    "def create_features_dict(data, mutual_info):\n",
    "    dict = {}\n",
    "    for i,j in zip(data.columns,mutual_info):\n",
    "        dict[i] = j\n",
    "    return dict"
   ]
  },
  {
   "cell_type": "code",
   "execution_count": 16,
   "metadata": {},
   "outputs": [],
   "source": [
    "def mutual_information(X_train_transpose_clusteredx, X_train_,y_train_, label_cluster):\n",
    "    n_features_to_keep = 8\n",
    "    n_neighbors = X_train_.shape[0]-1\n",
    "    Train = pd.DataFrame()\n",
    "    for i in label_cluster:\n",
    "        X_train_transpose_clustered_ = X_train_transpose_clusteredx[X_train_transpose_clusteredx['cluster']==i]\n",
    "        X_train_clustered_ = X_train_transpose_clustered_.drop(['cluster'],axis=1).transpose()\n",
    "        MI = mutual_info_classif(X_train_clustered_,y_train_,n_neighbors=n_neighbors)\n",
    "        dict = create_features_dict(X_train_clustered_,MI)\n",
    "        X_train_selected = sorted(dict.items(), key = lambda kv:(kv[1], kv[0]),reverse=True)\n",
    "        X_train_selected = X_train_selected[:n_features_to_keep]\n",
    "        top_features = [i[0] for i in X_train_selected]\n",
    "        for j in top_features:\n",
    "            if Train.shape == (0,0):\n",
    "                Train = X_train_[[j]]\n",
    "            else:\n",
    "                Train = Train.join(X_train_[[j]])\n",
    "    return Train"
   ]
  },
  {
   "cell_type": "markdown",
   "metadata": {},
   "source": [
    "### PCA"
   ]
  },
  {
   "cell_type": "raw",
   "metadata": {},
   "source": [
    "def optimum_components(X_train_):\n",
    "    n_components = min(X_train_.shape)\n",
    "    treshold = 0.90\n",
    "    sum = 0\n",
    "    components = 1\n",
    "    for i in range(1,n_components+1):\n",
    "        pca = PCA(n_components=i)\n",
    "        X_train_selected = pca.fit_transform(X_train_)\n",
    "        sum = pca.explained_variance_ratio_.sum()\n",
    "        components = i\n",
    "        if sum>treshold:\n",
    "            break\n",
    "    return components"
   ]
  },
  {
   "cell_type": "code",
   "execution_count": 17,
   "metadata": {},
   "outputs": [],
   "source": [
    "def pca(X_train_transpose_clusteredx, X_train_,y_train_, label_cluster):\n",
    "    Train = pd.DataFrame()\n",
    "    n_components = 1\n",
    "    n_features_to_keep = 8\n",
    "    for i in label_cluster:\n",
    "        X_train_transpose_clustered_ = X_train_transpose_clusteredx[X_train_transpose_clusteredx['cluster']==i]\n",
    "        X_train_clustered_ = X_train_transpose_clustered_.drop(['cluster'],axis=1).transpose()\n",
    "        pca = PCA(n_components=n_components)\n",
    "        ft = pca.fit_transform(X_train_clustered_)\n",
    "        X_train_selected = pca.components_[0]\n",
    "        dict = create_features_dict(X_train_clustered_,X_train_selected)\n",
    "        X_train_selected = sorted(dict.items(), key = lambda kv:(kv[1], kv[0]), reverse=True)\n",
    "        X_train_selected = X_train_selected[:n_features_to_keep]\n",
    "        top_features = [i[0] for i in X_train_selected]\n",
    "        for j in top_features:\n",
    "            if Train.shape == (0,0):\n",
    "                Train = X_train_[[j]]\n",
    "            else:\n",
    "                Train = Train.join(X_train_[[j]])\n",
    "    return Train"
   ]
  },
  {
   "cell_type": "markdown",
   "metadata": {},
   "source": [
    "## Prepare data"
   ]
  },
  {
   "cell_type": "code",
   "execution_count": 18,
   "metadata": {},
   "outputs": [],
   "source": [
    "def prepare_data(Train_,X_test_):\n",
    "    X_train_ = Train_.copy()\n",
    "    X_test_ = X_test_[X_train_.columns]\n",
    "    return X_train_,X_test_"
   ]
  },
  {
   "cell_type": "markdown",
   "metadata": {},
   "source": [
    "## Classification"
   ]
  },
  {
   "cell_type": "code",
   "execution_count": 19,
   "metadata": {},
   "outputs": [],
   "source": [
    "model_rfg = RandomForestClassifier(criterion='gini', n_estimators=60)\n",
    "model_svm = SVC(kernel='linear')\n",
    "model_lr = LogisticRegression()\n",
    "model_knn = KNeighborsClassifier()\n",
    "model_mnb = MultinomialNB()"
   ]
  },
  {
   "cell_type": "code",
   "execution_count": 20,
   "metadata": {},
   "outputs": [],
   "source": [
    "X_ = X.values\n",
    "y_ = y.values"
   ]
  },
  {
   "cell_type": "markdown",
   "metadata": {},
   "source": [
    "**K-fold Cross Validation**"
   ]
  },
  {
   "cell_type": "code",
   "execution_count": 21,
   "metadata": {},
   "outputs": [
    {
     "data": {
      "text/plain": [
       "8"
      ]
     },
     "execution_count": 21,
     "metadata": {},
     "output_type": "execute_result"
    }
   ],
   "source": [
    "kf = KFold(n_splits=8, random_state=20)\n",
    "kf.get_n_splits(X_)"
   ]
  },
  {
   "cell_type": "markdown",
   "metadata": {},
   "source": [
    "***Random Forest***\n",
    "\n",
    "- Relief Method with clustering"
   ]
  },
  {
   "cell_type": "code",
   "execution_count": 22,
   "metadata": {},
   "outputs": [
    {
     "name": "stdout",
     "output_type": "stream",
     "text": [
      "KFold(n_splits=8, random_state=20, shuffle=False)\n",
      "Score in Random Forest :  0.875\n",
      "Score in Random Forest :  0.75\n",
      "Score in Random Forest :  0.875\n",
      "Score in Random Forest :  1.0\n",
      "Score in Random Forest :  0.875\n",
      "Score in Random Forest :  0.875\n",
      "Score in Random Forest :  0.5714285714285714\n",
      "Score in Random Forest :  0.8571428571428571\n",
      "avg accuraccy =  0.8348214285714286\n",
      "max accuraccy =  1.0\n",
      "min accuraccy =  0.5714285714285714\n"
     ]
    }
   ],
   "source": [
    "print(kf)\n",
    "scoring = []\n",
    "for train_index, test_index in kf.split(X_):\n",
    "    X_train, X_test = X_[train_index], X_[test_index]\n",
    "    y_train, y_test = y_[train_index], y_[test_index]\n",
    "    X_train = pd.DataFrame(data=X_train, columns=X.columns)\n",
    "    X_test = pd.DataFrame(data=X_test, columns=X.columns)\n",
    "    X_train, X_test = minmax_scaler(X_train, X_test)\n",
    "    X_train_transpose_clustered = k_means(X_train)\n",
    "    clusters = set(X_train_transpose_clustered['cluster'].values.tolist())\n",
    "    Train = relief_method(X_train_transpose_clustered, X_train, y_train, clusters)\n",
    "    X_train, X_test = prepare_data(Train,X_test)\n",
    "    model_rfg.fit(X_train,y_train)\n",
    "    pred = model_rfg.predict(X_test)\n",
    "    hasil = accuracy_score(y_test, pred)\n",
    "    print(\"Score in Random Forest : \", hasil)\n",
    "    scoring.append(hasil)\n",
    "scoring = np.array(scoring)\n",
    "avg_rfg_RM = scoring.mean()\n",
    "print(\"avg accuraccy = \",avg_rfg_RM)\n",
    "print(\"max accuraccy = \",scoring.max())\n",
    "print(\"min accuraccy = \",scoring.min())"
   ]
  },
  {
   "cell_type": "markdown",
   "metadata": {},
   "source": [
    "- Mutual Information with clustering"
   ]
  },
  {
   "cell_type": "code",
   "execution_count": 23,
   "metadata": {},
   "outputs": [
    {
     "name": "stdout",
     "output_type": "stream",
     "text": [
      "KFold(n_splits=8, random_state=20, shuffle=False)\n",
      "Score in Random Forest :  0.875\n",
      "Score in Random Forest :  0.875\n",
      "Score in Random Forest :  0.75\n",
      "Score in Random Forest :  1.0\n",
      "Score in Random Forest :  1.0\n",
      "Score in Random Forest :  0.875\n",
      "Score in Random Forest :  0.5714285714285714\n",
      "Score in Random Forest :  0.7142857142857143\n",
      "avg accuraccy =  0.8325892857142857\n",
      "max accuraccy =  1.0\n",
      "min accuraccy =  0.5714285714285714\n"
     ]
    }
   ],
   "source": [
    "print(kf)\n",
    "scoring = []\n",
    "for train_index, test_index in kf.split(X_):\n",
    "    X_train, X_test = X_[train_index], X_[test_index]\n",
    "    y_train, y_test = y_[train_index], y_[test_index]\n",
    "    X_train = pd.DataFrame(data=X_train, columns=X.columns)\n",
    "    X_test = pd.DataFrame(data=X_test, columns=X.columns)\n",
    "    X_train, X_test = minmax_scaler(X_train, X_test)\n",
    "    X_train_transpose_clustered = k_means(X_train)\n",
    "    clusters = set(X_train_transpose_clustered['cluster'].values.tolist())\n",
    "    Train = mutual_information(X_train_transpose_clustered, X_train, y_train, clusters)\n",
    "    X_train, X_test = prepare_data(Train,X_test)\n",
    "    model_rfg.fit(X_train,y_train)\n",
    "    pred = model_rfg.predict(X_test)\n",
    "    hasil = accuracy_score(y_test, pred)\n",
    "    print(\"Score in Random Forest : \", hasil)\n",
    "    scoring.append(hasil)\n",
    "scoring = np.array(scoring)\n",
    "avg_rfg_MI = scoring.mean()\n",
    "print(\"avg accuraccy = \",avg_rfg_MI)\n",
    "print(\"max accuraccy = \",scoring.max())\n",
    "print(\"min accuraccy = \",scoring.min())"
   ]
  },
  {
   "cell_type": "markdown",
   "metadata": {},
   "source": [
    "- PCA with clustering"
   ]
  },
  {
   "cell_type": "code",
   "execution_count": 24,
   "metadata": {},
   "outputs": [
    {
     "name": "stdout",
     "output_type": "stream",
     "text": [
      "KFold(n_splits=8, random_state=20, shuffle=False)\n",
      "Score in Random Forest :  0.625\n",
      "Score in Random Forest :  0.625\n",
      "Score in Random Forest :  0.75\n",
      "Score in Random Forest :  0.875\n",
      "Score in Random Forest :  1.0\n",
      "Score in Random Forest :  0.875\n",
      "Score in Random Forest :  0.5714285714285714\n",
      "Score in Random Forest :  0.7142857142857143\n",
      "avg accuraccy =  0.7544642857142857\n",
      "max accuraccy =  1.0\n",
      "min accuraccy =  0.5714285714285714\n"
     ]
    }
   ],
   "source": [
    "print(kf)\n",
    "scoring = []\n",
    "for train_index, test_index in kf.split(X_):\n",
    "    X_train, X_test = X_[train_index], X_[test_index]\n",
    "    y_train, y_test = y_[train_index], y_[test_index]\n",
    "    X_train = pd.DataFrame(data=X_train, columns=X.columns)\n",
    "    X_test = pd.DataFrame(data=X_test, columns=X.columns)\n",
    "    X_train, X_test = minmax_scaler(X_train, X_test)\n",
    "    X_train_transpose_clustered = k_means(X_train)\n",
    "    clusters = set(X_train_transpose_clustered['cluster'].values.tolist())\n",
    "    Train = pca(X_train_transpose_clustered, X_train, y_train, clusters)\n",
    "    X_train, X_test = prepare_data(Train,X_test)\n",
    "    model_rfg.fit(X_train,y_train)\n",
    "    pred = model_rfg.predict(X_test)\n",
    "    hasil = accuracy_score(y_test, pred)\n",
    "    print(\"Score in Random Forest : \", hasil)\n",
    "    scoring.append(hasil)\n",
    "scoring = np.array(scoring)\n",
    "avg_rfg_PCA = scoring.mean()\n",
    "print(\"avg accuraccy = \",avg_rfg_PCA)\n",
    "print(\"max accuraccy = \",scoring.max())\n",
    "print(\"min accuraccy = \",scoring.min())"
   ]
  },
  {
   "cell_type": "markdown",
   "metadata": {},
   "source": [
    "***Support Vector Machine***"
   ]
  },
  {
   "cell_type": "markdown",
   "metadata": {},
   "source": [
    "- Relief Method with Clustering"
   ]
  },
  {
   "cell_type": "code",
   "execution_count": 25,
   "metadata": {},
   "outputs": [
    {
     "name": "stdout",
     "output_type": "stream",
     "text": [
      "KFold(n_splits=8, random_state=20, shuffle=False)\n",
      "Score in SVM :  0.75\n",
      "Score in SVM :  0.75\n",
      "Score in SVM :  0.5\n",
      "Score in SVM :  1.0\n",
      "Score in SVM :  1.0\n",
      "Score in SVM :  0.875\n",
      "Score in SVM :  0.5714285714285714\n",
      "Score in SVM :  0.8571428571428571\n",
      "avg accuraccy =  0.7879464285714286\n",
      "max accuraccy =  1.0\n",
      "min accuraccy =  0.5\n"
     ]
    }
   ],
   "source": [
    "print(kf)\n",
    "scoring = []\n",
    "for train_index, test_index in kf.split(X_):\n",
    "    X_train, X_test = X_[train_index], X_[test_index]\n",
    "    y_train, y_test = y_[train_index], y_[test_index]\n",
    "    X_train = pd.DataFrame(data=X_train, columns=X.columns)\n",
    "    X_test = pd.DataFrame(data=X_test, columns=X.columns)\n",
    "    X_train, X_test = minmax_scaler(X_train, X_test)\n",
    "    X_train_transpose_clustered = k_means(X_train)\n",
    "    clusters = set(X_train_transpose_clustered['cluster'].values.tolist())\n",
    "    Train = relief_method(X_train_transpose_clustered, X_train, y_train, clusters)\n",
    "    X_train, X_test = prepare_data(Train,X_test)\n",
    "    model_svm.fit(X_train,y_train)\n",
    "    pred = model_svm.predict(X_test)\n",
    "    hasil = accuracy_score(y_test, pred)\n",
    "    print(\"Score in SVM : \", hasil)\n",
    "    scoring.append(hasil)\n",
    "scoring = np.array(scoring)\n",
    "avg_svm_RM = scoring.mean()\n",
    "print(\"avg accuraccy = \",scoring.mean())\n",
    "print(\"max accuraccy = \",scoring.max())\n",
    "print(\"min accuraccy = \",scoring.min())"
   ]
  },
  {
   "cell_type": "markdown",
   "metadata": {},
   "source": [
    "- Mutual information with clustering"
   ]
  },
  {
   "cell_type": "code",
   "execution_count": 26,
   "metadata": {},
   "outputs": [
    {
     "name": "stdout",
     "output_type": "stream",
     "text": [
      "KFold(n_splits=8, random_state=20, shuffle=False)\n",
      "Score in SVM :  0.875\n",
      "Score in SVM :  0.875\n",
      "Score in SVM :  1.0\n",
      "Score in SVM :  1.0\n",
      "Score in SVM :  1.0\n",
      "Score in SVM :  0.75\n",
      "Score in SVM :  0.5714285714285714\n",
      "Score in SVM :  0.7142857142857143\n",
      "avg accuraccy =  0.8482142857142857\n",
      "max accuraccy =  1.0\n",
      "min accuraccy =  0.5714285714285714\n"
     ]
    }
   ],
   "source": [
    "print(kf)\n",
    "scoring = []\n",
    "for train_index, test_index in kf.split(X_):\n",
    "    X_train, X_test = X_[train_index], X_[test_index]\n",
    "    y_train, y_test = y_[train_index], y_[test_index]\n",
    "    X_train = pd.DataFrame(data=X_train, columns=X.columns)\n",
    "    X_test = pd.DataFrame(data=X_test, columns=X.columns)\n",
    "    X_train, X_test = minmax_scaler(X_train, X_test)\n",
    "    X_train_transpose_clustered = k_means(X_train)\n",
    "    clusters = set(X_train_transpose_clustered['cluster'].values.tolist())\n",
    "    Train = mutual_information(X_train_transpose_clustered, X_train, y_train, clusters)\n",
    "    X_train, X_test = prepare_data(Train,X_test)\n",
    "    model_svm.fit(X_train,y_train)\n",
    "    pred = model_svm.predict(X_test)\n",
    "    hasil = accuracy_score(y_test, pred)\n",
    "    print(\"Score in SVM : \", hasil)\n",
    "    scoring.append(hasil)\n",
    "scoring = np.array(scoring)\n",
    "avg_svm_MI = scoring.mean()\n",
    "print(\"avg accuraccy = \",scoring.mean())\n",
    "print(\"max accuraccy = \",scoring.max())\n",
    "print(\"min accuraccy = \",scoring.min())"
   ]
  },
  {
   "cell_type": "markdown",
   "metadata": {},
   "source": [
    "- PCA with clustering"
   ]
  },
  {
   "cell_type": "code",
   "execution_count": 41,
   "metadata": {},
   "outputs": [
    {
     "name": "stdout",
     "output_type": "stream",
     "text": [
      "KFold(n_splits=8, random_state=20, shuffle=False)\n",
      "Score in SVM :  0.625\n",
      "Score in SVM :  0.625\n",
      "Score in SVM :  0.625\n",
      "Score in SVM :  0.875\n",
      "Score in SVM :  1.0\n",
      "Score in SVM :  0.875\n",
      "Score in SVM :  0.5714285714285714\n",
      "Score in SVM :  0.8571428571428571\n",
      "avg accuraccy =  0.7566964285714286\n",
      "max accuraccy =  1.0\n",
      "min accuraccy =  0.5714285714285714\n"
     ]
    }
   ],
   "source": [
    "print(kf)\n",
    "scoring = []\n",
    "for train_index, test_index in kf.split(X_):\n",
    "    X_train, X_test = X_[train_index], X_[test_index]\n",
    "    y_train, y_test = y_[train_index], y_[test_index]\n",
    "    X_train = pd.DataFrame(data=X_train, columns=X.columns)\n",
    "    X_test = pd.DataFrame(data=X_test, columns=X.columns)\n",
    "    X_train, X_test = minmax_scaler(X_train, X_test)\n",
    "    X_train_transpose_clustered = k_means(X_train)\n",
    "    clusters = set(X_train_transpose_clustered['cluster'].values.tolist())\n",
    "    Train = pca(X_train_transpose_clustered, X_train, y_train, clusters)\n",
    "    X_train, X_test = prepare_data(Train,X_test)\n",
    "    model_svm.fit(X_train,y_train)\n",
    "    pred = model_svm.predict(X_test)\n",
    "    hasil = accuracy_score(y_test, pred)\n",
    "    print(\"Score in SVM : \", hasil)\n",
    "    scoring.append(hasil)\n",
    "scoring = np.array(scoring)\n",
    "avg_svm_PCA = scoring.mean()\n",
    "print(\"avg accuraccy = \",scoring.mean())\n",
    "print(\"max accuraccy = \",scoring.max())\n",
    "print(\"min accuraccy = \",scoring.min())"
   ]
  },
  {
   "cell_type": "markdown",
   "metadata": {},
   "source": [
    "***Logistic Regression***"
   ]
  },
  {
   "cell_type": "markdown",
   "metadata": {},
   "source": [
    "- Relief Method with clustering"
   ]
  },
  {
   "cell_type": "code",
   "execution_count": 28,
   "metadata": {},
   "outputs": [
    {
     "name": "stdout",
     "output_type": "stream",
     "text": [
      "KFold(n_splits=8, random_state=20, shuffle=False)\n",
      "Score in Logistic Regression :  0.75\n",
      "Score in Logistic Regression :  0.625\n",
      "Score in Logistic Regression :  0.75\n",
      "Score in Logistic Regression :  1.0\n",
      "Score in Logistic Regression :  0.875\n",
      "Score in Logistic Regression :  1.0\n",
      "Score in Logistic Regression :  0.5714285714285714\n",
      "Score in Logistic Regression :  0.7142857142857143\n",
      "avg accuraccy =  0.7857142857142857\n",
      "max accuraccy =  1.0\n",
      "min accuraccy =  0.5714285714285714\n"
     ]
    }
   ],
   "source": [
    "print(kf)\n",
    "scoring = []\n",
    "for train_index, test_index in kf.split(X_):\n",
    "    X_train, X_test = X_[train_index], X_[test_index]\n",
    "    y_train, y_test = y_[train_index], y_[test_index]\n",
    "    X_train = pd.DataFrame(data=X_train, columns=X.columns)\n",
    "    X_test = pd.DataFrame(data=X_test, columns=X.columns)\n",
    "    X_train, X_test = minmax_scaler(X_train, X_test)\n",
    "    X_train_transpose_clustered = k_means(X_train)\n",
    "    clusters = set(X_train_transpose_clustered['cluster'].values.tolist())\n",
    "    Train = relief_method(X_train_transpose_clustered, X_train, y_train, clusters)\n",
    "    X_train, X_test = prepare_data(Train,X_test)\n",
    "    model_lr.fit(X_train,y_train)\n",
    "    pred = model_lr.predict(X_test)\n",
    "    hasil = accuracy_score(y_test, pred)\n",
    "    print(\"Score in Logistic Regression : \", hasil)\n",
    "    scoring.append(hasil)\n",
    "scoring = np.array(scoring)\n",
    "avg_lr_RM = scoring.mean()\n",
    "print(\"avg accuraccy = \",avg_lr_RM)\n",
    "print(\"max accuraccy = \",scoring.max())\n",
    "print(\"min accuraccy = \",scoring.min())"
   ]
  },
  {
   "cell_type": "markdown",
   "metadata": {},
   "source": [
    "- Mutual Information with clustering"
   ]
  },
  {
   "cell_type": "code",
   "execution_count": 29,
   "metadata": {},
   "outputs": [
    {
     "name": "stdout",
     "output_type": "stream",
     "text": [
      "KFold(n_splits=8, random_state=20, shuffle=False)\n",
      "Score in Logistic Regression :  0.875\n",
      "Score in Logistic Regression :  0.875\n",
      "Score in Logistic Regression :  1.0\n",
      "Score in Logistic Regression :  1.0\n",
      "Score in Logistic Regression :  1.0\n",
      "Score in Logistic Regression :  0.875\n",
      "Score in Logistic Regression :  0.5714285714285714\n",
      "Score in Logistic Regression :  0.7142857142857143\n",
      "avg accuraccy =  0.8638392857142857\n",
      "max accuraccy =  1.0\n",
      "min accuraccy =  0.5714285714285714\n"
     ]
    }
   ],
   "source": [
    "print(kf)\n",
    "scoring = []\n",
    "for train_index, test_index in kf.split(X_):\n",
    "    X_train, X_test = X_[train_index], X_[test_index]\n",
    "    y_train, y_test = y_[train_index], y_[test_index]\n",
    "    X_train = pd.DataFrame(data=X_train, columns=X.columns)\n",
    "    X_test = pd.DataFrame(data=X_test, columns=X.columns)\n",
    "    X_train, X_test = minmax_scaler(X_train, X_test)\n",
    "    X_train_transpose_clustered = k_means(X_train)\n",
    "    clusters = set(X_train_transpose_clustered['cluster'].values.tolist())\n",
    "    Train = mutual_information(X_train_transpose_clustered, X_train, y_train, clusters)\n",
    "    X_train, X_test = prepare_data(Train,X_test)\n",
    "    model_lr.fit(X_train,y_train)\n",
    "    pred = model_lr.predict(X_test)\n",
    "    hasil = accuracy_score(y_test, pred)\n",
    "    print(\"Score in Logistic Regression : \", hasil)\n",
    "    scoring.append(hasil)\n",
    "scoring = np.array(scoring)\n",
    "avg_lr_MI = scoring.mean()\n",
    "print(\"avg accuraccy = \",avg_lr_MI)\n",
    "print(\"max accuraccy = \",scoring.max())\n",
    "print(\"min accuraccy = \",scoring.min())"
   ]
  },
  {
   "cell_type": "markdown",
   "metadata": {},
   "source": [
    "- PCA with clustering"
   ]
  },
  {
   "cell_type": "code",
   "execution_count": 30,
   "metadata": {},
   "outputs": [
    {
     "name": "stdout",
     "output_type": "stream",
     "text": [
      "KFold(n_splits=8, random_state=20, shuffle=False)\n",
      "Score in Logistic Regression :  0.75\n",
      "Score in Logistic Regression :  0.625\n",
      "Score in Logistic Regression :  0.625\n",
      "Score in Logistic Regression :  1.0\n",
      "Score in Logistic Regression :  1.0\n",
      "Score in Logistic Regression :  0.875\n",
      "Score in Logistic Regression :  0.5714285714285714\n",
      "Score in Logistic Regression :  0.7142857142857143\n",
      "avg accuraccy =  0.7700892857142857\n",
      "max accuraccy =  1.0\n",
      "min accuraccy =  0.5714285714285714\n"
     ]
    }
   ],
   "source": [
    "print(kf)\n",
    "scoring = []\n",
    "for train_index, test_index in kf.split(X_):\n",
    "    X_train, X_test = X_[train_index], X_[test_index]\n",
    "    y_train, y_test = y_[train_index], y_[test_index]\n",
    "    X_train = pd.DataFrame(data=X_train, columns=X.columns)\n",
    "    X_test = pd.DataFrame(data=X_test, columns=X.columns)\n",
    "    X_train, X_test = minmax_scaler(X_train, X_test)\n",
    "    X_train_transpose_clustered = k_means(X_train)\n",
    "    clusters = set(X_train_transpose_clustered['cluster'].values.tolist())\n",
    "    Train = pca(X_train_transpose_clustered, X_train, y_train, clusters)\n",
    "    X_train, X_test = prepare_data(Train,X_test)\n",
    "    model_lr.fit(X_train,y_train)\n",
    "    pred = model_lr.predict(X_test)\n",
    "    hasil = accuracy_score(y_test, pred)\n",
    "    print(\"Score in Logistic Regression : \", hasil)\n",
    "    scoring.append(hasil)\n",
    "scoring = np.array(scoring)\n",
    "avg_lr_PCA = scoring.mean()\n",
    "print(\"avg accuraccy = \",avg_lr_PCA)\n",
    "print(\"max accuraccy = \",scoring.max())\n",
    "print(\"min accuraccy = \",scoring.min())"
   ]
  },
  {
   "cell_type": "markdown",
   "metadata": {},
   "source": [
    "***K nearest neighbors***"
   ]
  },
  {
   "cell_type": "markdown",
   "metadata": {},
   "source": [
    "- relief method with clustering"
   ]
  },
  {
   "cell_type": "code",
   "execution_count": 31,
   "metadata": {},
   "outputs": [
    {
     "name": "stdout",
     "output_type": "stream",
     "text": [
      "KFold(n_splits=8, random_state=20, shuffle=False)\n",
      "Score in KNN :  0.75\n",
      "Score in KNN :  0.625\n",
      "Score in KNN :  0.75\n",
      "Score in KNN :  0.625\n",
      "Score in KNN :  0.875\n",
      "Score in KNN :  0.875\n",
      "Score in KNN :  0.5714285714285714\n",
      "Score in KNN :  1.0\n",
      "avg accuraccy =  0.7589285714285714\n",
      "max accuraccy =  1.0\n",
      "min accuraccy =  0.5714285714285714\n"
     ]
    }
   ],
   "source": [
    "print(kf)\n",
    "scoring = []\n",
    "for train_index, test_index in kf.split(X_):\n",
    "    X_train, X_test = X_[train_index], X_[test_index]\n",
    "    y_train, y_test = y_[train_index], y_[test_index]\n",
    "    X_train = pd.DataFrame(data=X_train, columns=X.columns)\n",
    "    X_test = pd.DataFrame(data=X_test, columns=X.columns)\n",
    "    X_train, X_test = minmax_scaler(X_train, X_test)\n",
    "    X_train_transpose_clustered = k_means(X_train)\n",
    "    clusters = set(X_train_transpose_clustered['cluster'].values.tolist())\n",
    "    Train = relief_method(X_train_transpose_clustered, X_train, y_train, clusters)\n",
    "    X_train, X_test = prepare_data(Train,X_test)\n",
    "    model_knn.fit(X_train,y_train)\n",
    "    pred = model_knn.predict(X_test)\n",
    "    hasil = accuracy_score(y_test, pred)\n",
    "    print(\"Score in KNN : \", hasil)\n",
    "    scoring.append(hasil)\n",
    "scoring = np.array(scoring)\n",
    "avg_knn_RM = scoring.mean()\n",
    "print(\"avg accuraccy = \",avg_knn_RM)\n",
    "print(\"max accuraccy = \",scoring.max())\n",
    "print(\"min accuraccy = \",scoring.min())"
   ]
  },
  {
   "cell_type": "markdown",
   "metadata": {},
   "source": [
    "- mutual information with clustering"
   ]
  },
  {
   "cell_type": "code",
   "execution_count": 32,
   "metadata": {},
   "outputs": [
    {
     "name": "stdout",
     "output_type": "stream",
     "text": [
      "KFold(n_splits=8, random_state=20, shuffle=False)\n",
      "Score in KNN :  0.75\n",
      "Score in KNN :  0.875\n",
      "Score in KNN :  0.75\n",
      "Score in KNN :  1.0\n",
      "Score in KNN :  1.0\n",
      "Score in KNN :  0.75\n",
      "Score in KNN :  0.5714285714285714\n",
      "Score in KNN :  0.7142857142857143\n",
      "avg accuraccy =  0.8013392857142857\n",
      "max accuraccy =  1.0\n",
      "min accuraccy =  0.5714285714285714\n"
     ]
    }
   ],
   "source": [
    "print(kf)\n",
    "scoring = []\n",
    "for train_index, test_index in kf.split(X_):\n",
    "    X_train, X_test = X_[train_index], X_[test_index]\n",
    "    y_train, y_test = y_[train_index], y_[test_index]\n",
    "    X_train = pd.DataFrame(data=X_train, columns=X.columns)\n",
    "    X_test = pd.DataFrame(data=X_test, columns=X.columns)\n",
    "    X_train, X_test = minmax_scaler(X_train, X_test)\n",
    "    X_train_transpose_clustered = k_means(X_train)\n",
    "    clusters = set(X_train_transpose_clustered['cluster'].values.tolist())\n",
    "    Train = mutual_information(X_train_transpose_clustered, X_train, y_train, clusters)\n",
    "    X_train, X_test = prepare_data(Train,X_test)\n",
    "    model_knn.fit(X_train,y_train)\n",
    "    pred = model_knn.predict(X_test)\n",
    "    hasil = accuracy_score(y_test, pred)\n",
    "    print(\"Score in KNN : \", hasil)\n",
    "    scoring.append(hasil)\n",
    "scoring = np.array(scoring)\n",
    "avg_knn_MI = scoring.mean()\n",
    "print(\"avg accuraccy = \",avg_knn_MI)\n",
    "print(\"max accuraccy = \",scoring.max())\n",
    "print(\"min accuraccy = \",scoring.min())"
   ]
  },
  {
   "cell_type": "markdown",
   "metadata": {},
   "source": [
    "- PCA with clustering"
   ]
  },
  {
   "cell_type": "code",
   "execution_count": 33,
   "metadata": {},
   "outputs": [
    {
     "name": "stdout",
     "output_type": "stream",
     "text": [
      "KFold(n_splits=8, random_state=20, shuffle=False)\n",
      "Score in KNN :  0.75\n",
      "Score in KNN :  0.375\n",
      "Score in KNN :  0.75\n",
      "Score in KNN :  0.875\n",
      "Score in KNN :  0.75\n",
      "Score in KNN :  1.0\n",
      "Score in KNN :  0.7142857142857143\n",
      "Score in KNN :  0.5714285714285714\n",
      "avg accuraccy =  0.7232142857142857\n",
      "max accuraccy =  1.0\n",
      "min accuraccy =  0.375\n"
     ]
    }
   ],
   "source": [
    "print(kf)\n",
    "scoring = []\n",
    "for train_index, test_index in kf.split(X_):\n",
    "    X_train, X_test = X_[train_index], X_[test_index]\n",
    "    y_train, y_test = y_[train_index], y_[test_index]\n",
    "    X_train = pd.DataFrame(data=X_train, columns=X.columns)\n",
    "    X_test = pd.DataFrame(data=X_test, columns=X.columns)\n",
    "    X_train, X_test = minmax_scaler(X_train, X_test)\n",
    "    X_train_transpose_clustered = k_means(X_train)\n",
    "    clusters = set(X_train_transpose_clustered['cluster'].values.tolist())\n",
    "    Train = pca(X_train_transpose_clustered, X_train, y_train, clusters)\n",
    "    X_train, X_test = prepare_data(Train,X_test)\n",
    "    model_knn.fit(X_train,y_train)\n",
    "    pred = model_knn.predict(X_test)\n",
    "    hasil = accuracy_score(y_test, pred)\n",
    "    print(\"Score in KNN : \", hasil)\n",
    "    scoring.append(hasil)\n",
    "scoring = np.array(scoring)\n",
    "avg_knn_PCA = scoring.mean()\n",
    "print(\"avg accuraccy = \",avg_knn_PCA)\n",
    "print(\"max accuraccy = \",scoring.max())\n",
    "print(\"min accuraccy = \",scoring.min())"
   ]
  },
  {
   "cell_type": "markdown",
   "metadata": {},
   "source": [
    "***Multinomial naive bayes***"
   ]
  },
  {
   "cell_type": "markdown",
   "metadata": {},
   "source": [
    "- relief method with clustering"
   ]
  },
  {
   "cell_type": "code",
   "execution_count": 34,
   "metadata": {},
   "outputs": [
    {
     "name": "stdout",
     "output_type": "stream",
     "text": [
      "KFold(n_splits=8, random_state=20, shuffle=False)\n",
      "Score in Multinomial Naive Bayes :  0.625\n",
      "Score in Multinomial Naive Bayes :  0.5\n",
      "Score in Multinomial Naive Bayes :  0.625\n",
      "Score in Multinomial Naive Bayes :  1.0\n",
      "Score in Multinomial Naive Bayes :  0.875\n",
      "Score in Multinomial Naive Bayes :  0.875\n",
      "Score in Multinomial Naive Bayes :  0.5714285714285714\n",
      "Score in Multinomial Naive Bayes :  0.7142857142857143\n",
      "avg accuraccy =  0.7232142857142857\n",
      "max accuraccy =  1.0\n",
      "min accuraccy =  0.5\n"
     ]
    }
   ],
   "source": [
    "print(kf)\n",
    "scoring = []\n",
    "for train_index, test_index in kf.split(X_):\n",
    "    X_train, X_test = X_[train_index], X_[test_index]\n",
    "    y_train, y_test = y_[train_index], y_[test_index]\n",
    "    X_train = pd.DataFrame(data=X_train, columns=X.columns)\n",
    "    X_test = pd.DataFrame(data=X_test, columns=X.columns)\n",
    "    X_train, X_test = minmax_scaler(X_train, X_test)\n",
    "    X_train_transpose_clustered = k_means(X_train)\n",
    "    clusters = set(X_train_transpose_clustered['cluster'].values.tolist())\n",
    "    Train = relief_method(X_train_transpose_clustered, X_train, y_train, clusters)\n",
    "    X_train, X_test = prepare_data(Train,X_test)\n",
    "    model_mnb.fit(X_train,y_train)\n",
    "    pred = model_mnb.predict(X_test)\n",
    "    hasil = accuracy_score(y_test, pred)\n",
    "    print(\"Score in Multinomial Naive Bayes : \", hasil)\n",
    "    scoring.append(hasil)\n",
    "scoring = np.array(scoring)\n",
    "avg_mnb_RM = scoring.mean()\n",
    "print(\"avg accuraccy = \",avg_mnb_RM)\n",
    "print(\"max accuraccy = \",scoring.max())\n",
    "print(\"min accuraccy = \",scoring.min())"
   ]
  },
  {
   "cell_type": "markdown",
   "metadata": {},
   "source": [
    "- mutual information with clustering"
   ]
  },
  {
   "cell_type": "code",
   "execution_count": 35,
   "metadata": {},
   "outputs": [
    {
     "name": "stdout",
     "output_type": "stream",
     "text": [
      "KFold(n_splits=8, random_state=20, shuffle=False)\n",
      "Score in Multinomial Naive Bayes :  1.0\n",
      "Score in Multinomial Naive Bayes :  0.875\n",
      "Score in Multinomial Naive Bayes :  0.875\n",
      "Score in Multinomial Naive Bayes :  1.0\n",
      "Score in Multinomial Naive Bayes :  1.0\n",
      "Score in Multinomial Naive Bayes :  0.875\n",
      "Score in Multinomial Naive Bayes :  0.5714285714285714\n",
      "Score in Multinomial Naive Bayes :  0.8571428571428571\n",
      "avg accuraccy =  0.8816964285714286\n",
      "max accuraccy =  1.0\n",
      "min accuraccy =  0.5714285714285714\n"
     ]
    }
   ],
   "source": [
    "print(kf)\n",
    "scoring = []\n",
    "for train_index, test_index in kf.split(X_):\n",
    "    X_train, X_test = X_[train_index], X_[test_index]\n",
    "    y_train, y_test = y_[train_index], y_[test_index]\n",
    "    X_train = pd.DataFrame(data=X_train, columns=X.columns)\n",
    "    X_test = pd.DataFrame(data=X_test, columns=X.columns)\n",
    "    X_train, X_test = minmax_scaler(X_train, X_test)\n",
    "    X_train_transpose_clustered = k_means(X_train)\n",
    "    clusters = set(X_train_transpose_clustered['cluster'].values.tolist())\n",
    "    Train = mutual_information(X_train_transpose_clustered, X_train, y_train, clusters)\n",
    "    X_train, X_test = prepare_data(Train,X_test)\n",
    "    model_mnb.fit(X_train,y_train)\n",
    "    pred = model_mnb.predict(X_test)\n",
    "    hasil = accuracy_score(y_test, pred)\n",
    "    print(\"Score in Multinomial Naive Bayes : \", hasil)\n",
    "    scoring.append(hasil)\n",
    "scoring = np.array(scoring)\n",
    "avg_mnb_MI = scoring.mean()\n",
    "print(\"avg accuraccy = \",avg_mnb_MI)\n",
    "print(\"max accuraccy = \",scoring.max())\n",
    "print(\"min accuraccy = \",scoring.min())"
   ]
  },
  {
   "cell_type": "markdown",
   "metadata": {},
   "source": [
    "- PCA with clustering"
   ]
  },
  {
   "cell_type": "code",
   "execution_count": 36,
   "metadata": {},
   "outputs": [
    {
     "name": "stdout",
     "output_type": "stream",
     "text": [
      "KFold(n_splits=8, random_state=20, shuffle=False)\n",
      "Score in Multinomial Naive Bayes :  0.625\n",
      "Score in Multinomial Naive Bayes :  0.625\n",
      "Score in Multinomial Naive Bayes :  0.625\n",
      "Score in Multinomial Naive Bayes :  0.875\n",
      "Score in Multinomial Naive Bayes :  1.0\n",
      "Score in Multinomial Naive Bayes :  0.875\n",
      "Score in Multinomial Naive Bayes :  0.5714285714285714\n",
      "Score in Multinomial Naive Bayes :  0.7142857142857143\n",
      "avg accuraccy =  0.7388392857142857\n",
      "max accuraccy =  1.0\n",
      "min accuraccy =  0.5714285714285714\n"
     ]
    }
   ],
   "source": [
    "print(kf)\n",
    "scoring = []\n",
    "for train_index, test_index in kf.split(X_):\n",
    "    X_train, X_test = X_[train_index], X_[test_index]\n",
    "    y_train, y_test = y_[train_index], y_[test_index]\n",
    "    X_train = pd.DataFrame(data=X_train, columns=X.columns)\n",
    "    X_test = pd.DataFrame(data=X_test, columns=X.columns)\n",
    "    X_train, X_test = minmax_scaler(X_train, X_test)\n",
    "    X_train_transpose_clustered = k_means(X_train)\n",
    "    clusters = set(X_train_transpose_clustered['cluster'].values.tolist())\n",
    "    Train = pca(X_train_transpose_clustered, X_train, y_train, clusters)\n",
    "    X_train, X_test = prepare_data(Train,X_test)\n",
    "    model_mnb.fit(X_train,y_train)\n",
    "    pred = model_mnb.predict(X_test)\n",
    "    hasil = accuracy_score(y_test, pred)\n",
    "    print(\"Score in Multinomial Naive Bayes : \", hasil)\n",
    "    scoring.append(hasil)\n",
    "scoring = np.array(scoring)\n",
    "avg_mnb_PCA = scoring.mean()\n",
    "print(\"avg accuraccy = \",avg_mnb_PCA)\n",
    "print(\"max accuraccy = \",scoring.max())\n",
    "print(\"min accuraccy = \",scoring.min())"
   ]
  },
  {
   "cell_type": "markdown",
   "metadata": {},
   "source": [
    "## Result"
   ]
  },
  {
   "cell_type": "code",
   "execution_count": 50,
   "metadata": {},
   "outputs": [],
   "source": [
    "result = pd.DataFrame({\n",
    "    \"method\" : [\"Random Forest\",\"SVM\",\"Logistic Regression\",\"KNN\",\"Multinomial Naive Bayes\"],\n",
    "    \"Relief Method\" : [avg_rfg_RM,avg_svm_RM,avg_lr_RM,avg_knn_RM,avg_mnb_RM],\n",
    "    \"Mutual Information\" : [avg_rfg_MI,avg_svm_MI,avg_lr_MI,avg_knn_MI,avg_mnb_MI],\n",
    "    \"PCA\" : [avg_rfg_PCA,avg_svm_PCA,avg_lr_PCA,avg_knn_PCA,avg_mnb_PCA]\n",
    "})\n",
    "result = result.set_index(['method'],drop=True)"
   ]
  },
  {
   "cell_type": "code",
   "execution_count": 51,
   "metadata": {},
   "outputs": [
    {
     "data": {
      "text/html": [
       "<div>\n",
       "<style scoped>\n",
       "    .dataframe tbody tr th:only-of-type {\n",
       "        vertical-align: middle;\n",
       "    }\n",
       "\n",
       "    .dataframe tbody tr th {\n",
       "        vertical-align: top;\n",
       "    }\n",
       "\n",
       "    .dataframe thead th {\n",
       "        text-align: right;\n",
       "    }\n",
       "</style>\n",
       "<table border=\"1\" class=\"dataframe\">\n",
       "  <thead>\n",
       "    <tr style=\"text-align: right;\">\n",
       "      <th></th>\n",
       "      <th>Relief Method</th>\n",
       "      <th>Mutual Information</th>\n",
       "      <th>PCA</th>\n",
       "    </tr>\n",
       "    <tr>\n",
       "      <th>method</th>\n",
       "      <th></th>\n",
       "      <th></th>\n",
       "      <th></th>\n",
       "    </tr>\n",
       "  </thead>\n",
       "  <tbody>\n",
       "    <tr>\n",
       "      <th>Random Forest</th>\n",
       "      <td>0.834821</td>\n",
       "      <td>0.832589</td>\n",
       "      <td>0.754464</td>\n",
       "    </tr>\n",
       "    <tr>\n",
       "      <th>SVM</th>\n",
       "      <td>0.787946</td>\n",
       "      <td>0.848214</td>\n",
       "      <td>0.756696</td>\n",
       "    </tr>\n",
       "    <tr>\n",
       "      <th>Logistic Regression</th>\n",
       "      <td>0.785714</td>\n",
       "      <td>0.863839</td>\n",
       "      <td>0.770089</td>\n",
       "    </tr>\n",
       "    <tr>\n",
       "      <th>KNN</th>\n",
       "      <td>0.758929</td>\n",
       "      <td>0.801339</td>\n",
       "      <td>0.723214</td>\n",
       "    </tr>\n",
       "    <tr>\n",
       "      <th>Multinomial Naive Bayes</th>\n",
       "      <td>0.723214</td>\n",
       "      <td>0.881696</td>\n",
       "      <td>0.738839</td>\n",
       "    </tr>\n",
       "  </tbody>\n",
       "</table>\n",
       "</div>"
      ],
      "text/plain": [
       "                         Relief Method  Mutual Information       PCA\n",
       "method                                                              \n",
       "Random Forest                 0.834821            0.832589  0.754464\n",
       "SVM                           0.787946            0.848214  0.756696\n",
       "Logistic Regression           0.785714            0.863839  0.770089\n",
       "KNN                           0.758929            0.801339  0.723214\n",
       "Multinomial Naive Bayes       0.723214            0.881696  0.738839"
      ]
     },
     "execution_count": 51,
     "metadata": {},
     "output_type": "execute_result"
    }
   ],
   "source": [
    "result"
   ]
  },
  {
   "cell_type": "code",
   "execution_count": 60,
   "metadata": {},
   "outputs": [
    {
     "data": {
      "image/png": "[encoded data removed]",
      "text/plain": [
       "<Figure size 1440x720 with 1 Axes>"
      ]
     },
     "metadata": {
      "needs_background": "light"
     },
     "output_type": "display_data"
    }
   ],
   "source": [
    "result.loc[:,['Relief Method','Mutual Information','PCA']].plot.bar(color=['red','green','blue'], figsize=(20,10))\n",
    "plt.title(\"Perbandingan Akurasi\")\n",
    "plt.xlabel('Metode')\n",
    "plt.ylabel('Akurasi')\n",
    "plt.show()"
   ]
  },
  {
   "cell_type": "code",
   "execution_count": null,
   "metadata": {},
   "outputs": [],
   "source": []
  }
 ],
 "metadata": {
  "kernelspec": {
   "display_name": "Python 3",
   "language": "python",
   "name": "python3"
  },
  "language_info": {
   "codemirror_mode": {
    "name": "ipython",
    "version": 3
   },
   "file_extension": ".py",
   "mimetype": "text/x-python",
   "name": "python",
   "nbconvert_exporter": "python",
   "pygments_lexer": "ipython3",
   "version": "3.7.3"
  }
 },
 "nbformat": 4,
 "nbformat_minor": 2
}
